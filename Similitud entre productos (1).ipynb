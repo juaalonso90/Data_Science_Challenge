{
 "cells": [
  {
   "cell_type": "code",
   "execution_count": 1,
   "id": "4d154c45-48ca-4f15-862a-bcedb59b1fe4",
   "metadata": {},
   "outputs": [],
   "source": [
    "import pandas as pd\n",
    "from sklearn.feature_extraction.text import TfidfVectorizer\n",
    "from sklearn.metrics.pairwise import cosine_similarity"
   ]
  },
  {
   "cell_type": "code",
   "execution_count": 2,
   "id": "31e1bf56-19fb-48fc-b186-ca166aae7cfa",
   "metadata": {},
   "outputs": [
    {
     "name": "stdout",
     "output_type": "stream",
     "text": [
      "<class 'pandas.core.frame.DataFrame'>\n",
      "RangeIndex: 10000 entries, 0 to 9999\n",
      "Data columns (total 1 columns):\n",
      " #   Column          Non-Null Count  Dtype \n",
      "---  ------          --------------  ----- \n",
      " 0   ITE_ITEM_TITLE  10000 non-null  object\n",
      "dtypes: object(1)\n",
      "memory usage: 78.3+ KB\n"
     ]
    }
   ],
   "source": [
    "df = pd.read_csv(r'C:\\Users\\juano\\Analítica II\\MercadoLibre\\WorkSample- Applied Intelligence\\items_titles_test.csv')\n",
    "df.info()"
   ]
  },
  {
   "cell_type": "code",
   "execution_count": 3,
   "id": "f6e61c63-efd4-4798-9ddf-17a4b0d2f30c",
   "metadata": {},
   "outputs": [],
   "source": [
    "vectorizer = TfidfVectorizer(stop_words=None)  # Ajusta el idioma según sea necesario\n",
    "tfidf_matrix = vectorizer.fit_transform(df['ITE_ITEM_TITLE'])"
   ]
  },
  {
   "cell_type": "code",
   "execution_count": 4,
   "id": "f321b5e3-4b60-4ff8-b393-fc8c0e657ff7",
   "metadata": {},
   "outputs": [],
   "source": [
    "similarity_matrix = cosine_similarity(tfidf_matrix, tfidf_matrix)"
   ]
  },
  {
   "cell_type": "code",
   "execution_count": 5,
   "id": "5b48061b-5716-4914-8997-c331d6a8d79b",
   "metadata": {},
   "outputs": [],
   "source": [
    "results = []"
   ]
  },
  {
   "cell_type": "code",
   "execution_count": 6,
   "id": "519098f8-9c30-4564-944f-0c4233ceb8f7",
   "metadata": {},
   "outputs": [],
   "source": [
    "for i in range(len(df)):\n",
    "    for j in range(i+1, len(df)):  # Evitar duplicados (i, j) y (j, i)\n",
    "        valor1 = df['ITE_ITEM_TITLE'].iloc[i]\n",
    "        valor2 = df['ITE_ITEM_TITLE'].iloc[j]\n",
    "        similitud = similarity_matrix[i, j]\n",
    "        \n",
    "        # Agregar la comparación y su similitud al DataFrame de resultados\n",
    "        results.append([valor1, valor2, similitud])"
   ]
  },
  {
   "cell_type": "code",
   "execution_count": 7,
   "id": "98ec4f80-7908-4642-bec2-5dc8936a287c",
   "metadata": {},
   "outputs": [
    {
     "name": "stdout",
     "output_type": "stream",
     "text": [
      "                                                     Valor1  \\\n",
      "0          Tênis Olympikus Esporte Valente - Masculino Kids   \n",
      "1          Tênis Olympikus Esporte Valente - Masculino Kids   \n",
      "2          Tênis Olympikus Esporte Valente - Masculino Kids   \n",
      "3          Tênis Olympikus Esporte Valente - Masculino Kids   \n",
      "4          Tênis Olympikus Esporte Valente - Masculino Kids   \n",
      "...                                                     ...   \n",
      "49994995  Sapatenis Casual Masculino Estiloso 24horas Co...   \n",
      "49994996  Sapatenis Casual Masculino Estiloso 24horas Co...   \n",
      "49994997          Tênis Feminino Infantil Molekinha Tie Dye   \n",
      "49994998          Tênis Feminino Infantil Molekinha Tie Dye   \n",
      "49994999  Tênis Feminino Leve Barato Ganhe 1 Colchonete ...   \n",
      "\n",
      "                                                     Valor2  Similitud  \n",
      "0         Bicicleta Barra Forte Samy C/ 6 Marchas Cubo C...   0.000000  \n",
      "1              Tênis Usthemp Slip-on Temático - Labrador 2   0.013568  \n",
      "2               Tênis Casual Feminino Moleca Tecido Tie Dye   0.014188  \n",
      "3               Tênis Star Baby Sapatinho Conforto + Brinde   0.013933  \n",
      "4                   Tênis Oakley Frequency 3.0 Preto/marrom   0.013788  \n",
      "...                                                     ...        ...  \n",
      "49994995  Tênis Feminino Leve Barato Ganhe 1 Colchonete ...   0.000000  \n",
      "49994996  Tênis Polo Ralph Lauren Modelo Cantor Low Bran...   0.021605  \n",
      "49994997  Tênis Feminino Leve Barato Ganhe 1 Colchonete ...   0.041920  \n",
      "49994998  Tênis Polo Ralph Lauren Modelo Cantor Low Bran...   0.010741  \n",
      "49994999  Tênis Polo Ralph Lauren Modelo Cantor Low Bran...   0.007455  \n",
      "\n",
      "[49995000 rows x 3 columns]\n"
     ]
    }
   ],
   "source": [
    "similitud_df = pd.DataFrame(results, columns=['Valor1', 'Valor2', 'Similitud'])\n",
    "print(similitud_df)"
   ]
  },
  {
   "cell_type": "code",
   "execution_count": 15,
   "id": "83aacfda-8d20-484e-bd26-252c354b4df1",
   "metadata": {},
   "outputs": [
    {
     "data": {
      "text/html": [
       "<div>\n",
       "<style scoped>\n",
       "    .dataframe tbody tr th:only-of-type {\n",
       "        vertical-align: middle;\n",
       "    }\n",
       "\n",
       "    .dataframe tbody tr th {\n",
       "        vertical-align: top;\n",
       "    }\n",
       "\n",
       "    .dataframe thead th {\n",
       "        text-align: right;\n",
       "    }\n",
       "</style>\n",
       "<table border=\"1\" class=\"dataframe\">\n",
       "  <thead>\n",
       "    <tr style=\"text-align: right;\">\n",
       "      <th></th>\n",
       "      <th>Valor1</th>\n",
       "      <th>Valor2</th>\n",
       "      <th>Similitud</th>\n",
       "    </tr>\n",
       "  </thead>\n",
       "  <tbody>\n",
       "    <tr>\n",
       "      <th>0</th>\n",
       "      <td>Tênis Olympikus Esporte Valente - Masculino Kids</td>\n",
       "      <td>Bicicleta Barra Forte Samy C/ 6 Marchas Cubo C...</td>\n",
       "      <td>0.000000</td>\n",
       "    </tr>\n",
       "    <tr>\n",
       "      <th>1</th>\n",
       "      <td>Tênis Olympikus Esporte Valente - Masculino Kids</td>\n",
       "      <td>Tênis Usthemp Slip-on Temático - Labrador 2</td>\n",
       "      <td>0.013568</td>\n",
       "    </tr>\n",
       "    <tr>\n",
       "      <th>2</th>\n",
       "      <td>Tênis Olympikus Esporte Valente - Masculino Kids</td>\n",
       "      <td>Tênis Casual Feminino Moleca Tecido Tie Dye</td>\n",
       "      <td>0.014188</td>\n",
       "    </tr>\n",
       "    <tr>\n",
       "      <th>3</th>\n",
       "      <td>Tênis Olympikus Esporte Valente - Masculino Kids</td>\n",
       "      <td>Tênis Star Baby Sapatinho Conforto + Brinde</td>\n",
       "      <td>0.013933</td>\n",
       "    </tr>\n",
       "    <tr>\n",
       "      <th>4</th>\n",
       "      <td>Tênis Olympikus Esporte Valente - Masculino Kids</td>\n",
       "      <td>Tênis Oakley Frequency 3.0 Preto/marrom</td>\n",
       "      <td>0.013788</td>\n",
       "    </tr>\n",
       "    <tr>\n",
       "      <th>...</th>\n",
       "      <td>...</td>\n",
       "      <td>...</td>\n",
       "      <td>...</td>\n",
       "    </tr>\n",
       "    <tr>\n",
       "      <th>49994995</th>\n",
       "      <td>Sapatenis Casual Masculino Estiloso 24horas Co...</td>\n",
       "      <td>Tênis Feminino Leve Barato Ganhe 1 Colchonete ...</td>\n",
       "      <td>0.000000</td>\n",
       "    </tr>\n",
       "    <tr>\n",
       "      <th>49994996</th>\n",
       "      <td>Sapatenis Casual Masculino Estiloso 24horas Co...</td>\n",
       "      <td>Tênis Polo Ralph Lauren Modelo Cantor Low Bran...</td>\n",
       "      <td>0.021605</td>\n",
       "    </tr>\n",
       "    <tr>\n",
       "      <th>49994997</th>\n",
       "      <td>Tênis Feminino Infantil Molekinha Tie Dye</td>\n",
       "      <td>Tênis Feminino Leve Barato Ganhe 1 Colchonete ...</td>\n",
       "      <td>0.041920</td>\n",
       "    </tr>\n",
       "    <tr>\n",
       "      <th>49994998</th>\n",
       "      <td>Tênis Feminino Infantil Molekinha Tie Dye</td>\n",
       "      <td>Tênis Polo Ralph Lauren Modelo Cantor Low Bran...</td>\n",
       "      <td>0.010741</td>\n",
       "    </tr>\n",
       "    <tr>\n",
       "      <th>49994999</th>\n",
       "      <td>Tênis Feminino Leve Barato Ganhe 1 Colchonete ...</td>\n",
       "      <td>Tênis Polo Ralph Lauren Modelo Cantor Low Bran...</td>\n",
       "      <td>0.007455</td>\n",
       "    </tr>\n",
       "  </tbody>\n",
       "</table>\n",
       "<p>49995000 rows × 3 columns</p>\n",
       "</div>"
      ],
      "text/plain": [
       "                                                     Valor1  \\\n",
       "0          Tênis Olympikus Esporte Valente - Masculino Kids   \n",
       "1          Tênis Olympikus Esporte Valente - Masculino Kids   \n",
       "2          Tênis Olympikus Esporte Valente - Masculino Kids   \n",
       "3          Tênis Olympikus Esporte Valente - Masculino Kids   \n",
       "4          Tênis Olympikus Esporte Valente - Masculino Kids   \n",
       "...                                                     ...   \n",
       "49994995  Sapatenis Casual Masculino Estiloso 24horas Co...   \n",
       "49994996  Sapatenis Casual Masculino Estiloso 24horas Co...   \n",
       "49994997          Tênis Feminino Infantil Molekinha Tie Dye   \n",
       "49994998          Tênis Feminino Infantil Molekinha Tie Dye   \n",
       "49994999  Tênis Feminino Leve Barato Ganhe 1 Colchonete ...   \n",
       "\n",
       "                                                     Valor2  Similitud  \n",
       "0         Bicicleta Barra Forte Samy C/ 6 Marchas Cubo C...   0.000000  \n",
       "1              Tênis Usthemp Slip-on Temático - Labrador 2   0.013568  \n",
       "2               Tênis Casual Feminino Moleca Tecido Tie Dye   0.014188  \n",
       "3               Tênis Star Baby Sapatinho Conforto + Brinde   0.013933  \n",
       "4                   Tênis Oakley Frequency 3.0 Preto/marrom   0.013788  \n",
       "...                                                     ...        ...  \n",
       "49994995  Tênis Feminino Leve Barato Ganhe 1 Colchonete ...   0.000000  \n",
       "49994996  Tênis Polo Ralph Lauren Modelo Cantor Low Bran...   0.021605  \n",
       "49994997  Tênis Feminino Leve Barato Ganhe 1 Colchonete ...   0.041920  \n",
       "49994998  Tênis Polo Ralph Lauren Modelo Cantor Low Bran...   0.010741  \n",
       "49994999  Tênis Polo Ralph Lauren Modelo Cantor Low Bran...   0.007455  \n",
       "\n",
       "[49995000 rows x 3 columns]"
      ]
     },
     "execution_count": 15,
     "metadata": {},
     "output_type": "execute_result"
    }
   ],
   "source": [
    "similitud_df"
   ]
  }
 ],
 "metadata": {
  "kernelspec": {
   "display_name": "Python 3",
   "language": "python",
   "name": "python3"
  },
  "language_info": {
   "codemirror_mode": {
    "name": "ipython",
    "version": 3
   },
   "file_extension": ".py",
   "mimetype": "text/x-python",
   "name": "python",
   "nbconvert_exporter": "python",
   "pygments_lexer": "ipython3",
   "version": "3.12.7"
  }
 },
 "nbformat": 4,
 "nbformat_minor": 5
}
